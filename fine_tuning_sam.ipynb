{
 "cells": [
  {
   "cell_type": "markdown",
   "metadata": {},
   "source": [
    "# Fine-tuning SAM on Satellite Images for Street Segmentation\n",
    "\n",
    "Our approach is based on reusing the pretrained SAM Vision Transformer, more specifically using the image encoder and discarding the prompt encoder and mask decoder. \n",
    "\n",
    "Instead we will try out a combination of different Custom Encoder thats we use on the encoded images. \n",
    "\n",
    "We will try to use different approaches for the Decocer: \n",
    "\n",
    "1. Conv/Deconv based approach\n",
    "2. Fully connected MLP's\n",
    "3. Same as the mask decoder? \n",
    "4. Transformer, ViT? \n",
    "\n",
    "\n",
    "Furthermore things that can be modified are how many last layers of the SAM encoder are also fine tuned? \n",
    "Possibly just finetune them, after a while of training the newly initialized decoder. \n",
    "\n",
    "We will work with a lr schedule that reduces on plateau.\n",
    "\n",
    "Loss function? \n",
    "\n",
    "\n",
    "\n",
    "---\n",
    "### Loss function: \n",
    "- F1-Loss: https://pytorch.org/torcheval/stable/generated/torcheval.metrics.functional.multiclass_f1_score.html\n",
    "---\n",
    "### Learning rate:\n",
    "- really small values\n",
    "- reduceLROnPlateau(optimizer, 'max', patience=reduce_patience, verbose=verbose, factor=reduce_factor)\n",
    "- cosine annealing\n"
   ]
  },
  {
   "cell_type": "code",
   "execution_count": 1,
   "metadata": {},
   "outputs": [],
   "source": [
    "import torch\n",
    "import numpy as np\n",
    "import random\n",
    "\n",
    "seed = 0\n",
    "np.random.seed(seed)\n",
    "random.seed(seed)\n",
    "torch.manual_seed(seed)\n",
    "torch.backends.cudnn.deterministic = True\n"
   ]
  },
  {
   "cell_type": "markdown",
   "metadata": {},
   "source": [
    "## Loading the dataset"
   ]
  },
  {
   "cell_type": "code",
   "execution_count": 2,
   "metadata": {},
   "outputs": [
    {
     "name": "stderr",
     "output_type": "stream",
     "text": [
      "/Users/janulm/miniconda3/envs/mps/lib/python3.10/site-packages/torchvision/io/image.py:13: UserWarning: Failed to load image Python extension: 'dlopen(/Users/janulm/miniconda3/envs/mps/lib/python3.10/site-packages/torchvision/image.so, 0x0006): Symbol not found: __ZN3c1017RegisterOperatorsD1Ev\n",
      "  Referenced from: <5AA8DD3D-A2CC-31CA-8060-88B4E9C18B09> /Users/janulm/miniconda3/envs/mps/lib/python3.10/site-packages/torchvision/image.so\n",
      "  Expected in:     <CDAC6E34-8608-3E70-8B2F-32BCD38E90FB> /Users/janulm/miniconda3/envs/mps/lib/python3.10/site-packages/torch/lib/libtorch_cpu.dylib'If you don't plan on using image functionality from `torchvision.io`, you can ignore this warning. Otherwise, there might be something wrong with your environment. Did you have `libjpeg` or `libpng` installed before building `torchvision` from source?\n",
      "  warn(\n",
      "/Users/janulm/miniconda3/envs/mps/lib/python3.10/site-packages/tqdm/auto.py:21: TqdmWarning: IProgress not found. Please update jupyter and ipywidgets. See https://ipywidgets.readthedocs.io/en/stable/user_install.html\n",
      "  from .autonotebook import tqdm as notebook_tqdm\n",
      "/Users/janulm/miniconda3/envs/mps/lib/python3.10/site-packages/torchvision/datapoints/__init__.py:12: UserWarning: The torchvision.datapoints and torchvision.transforms.v2 namespaces are still Beta. While we do not expect major breaking changes, some APIs may still change according to user feedback. Please submit any feedback you may have in this issue: https://github.com/pytorch/vision/issues/6753, and you can also check out https://github.com/pytorch/vision/issues/7319 to learn more about the APIs that we suspect might involve future changes. You can silence this warning by calling torchvision.disable_beta_transforms_warning().\n",
      "  warnings.warn(_BETA_TRANSFORMS_WARNING)\n",
      "/Users/janulm/miniconda3/envs/mps/lib/python3.10/site-packages/torchvision/transforms/v2/__init__.py:54: UserWarning: The torchvision.datapoints and torchvision.transforms.v2 namespaces are still Beta. While we do not expect major breaking changes, some APIs may still change according to user feedback. Please submit any feedback you may have in this issue: https://github.com/pytorch/vision/issues/6753, and you can also check out https://github.com/pytorch/vision/issues/7319 to learn more about the APIs that we suspect might involve future changes. You can silence this warning by calling torchvision.disable_beta_transforms_warning().\n",
      "  warnings.warn(_BETA_TRANSFORMS_WARNING)\n"
     ]
    },
    {
     "name": "stdout",
     "output_type": "stream",
     "text": [
      "mps\n"
     ]
    }
   ],
   "source": [
    "# written by Jannek Ulm 16.5.2024\n",
    "# code was inspired by the following sources: https://github.com/bnsreenu/python_for_microscopists/blob/master/331_fine_tune_SAM_mito.ipynb\n",
    "\n",
    "from utils.image_loading import * \n",
    "from utils.torch_device import *\n",
    "from custom_datasets import Sat_Mask_Dataset\n",
    "\n",
    "device = get_torch_device(allow_mps=True)\n",
    "print(device)\n",
    "\n",
    "###########\n",
    "\n",
    "original_data = {}\n",
    "original_data[\"images\"] =load_training_images()\n",
    "original_data[\"masks\"] = load_groundtruth_images()\n",
    "\n",
    "city_names = [\"boston\",\"nyc\",\"zurich\"]\n",
    "custom_data = {\"images\":[],\"masks\":[]} # stores images and gt masks\n",
    "\n",
    "for name in city_names:\n",
    "    custom_data[\"images\"].extend(load_training_images(name))\n",
    "    custom_data[\"masks\"].extend(load_groundtruth_images(name))\n",
    "\n",
    "assert (len(custom_data[\"images\"]) == len(custom_data[\"masks\"]))"
   ]
  },
  {
   "cell_type": "code",
   "execution_count": 3,
   "metadata": {},
   "outputs": [
    {
     "name": "stdout",
     "output_type": "stream",
     "text": [
      "9208\n",
      "custom ds: (0.0, 0.1329543182558652, 0.72180625)\n",
      "orig ds: (0.008968750000000001, 0.17797695312500006, 0.40426875)\n"
     ]
    }
   ],
   "source": [
    "print(len(custom_data[\"images\"]))\n",
    "\n",
    "print(\"custom ds:\",get_street_ratio_mmm(custom_data[\"masks\"]))\n",
    "print(\"orig ds:\",get_street_ratio_mmm(original_data[\"masks\"]))\n"
   ]
  },
  {
   "cell_type": "code",
   "execution_count": 4,
   "metadata": {},
   "outputs": [
    {
     "data": {
      "image/png": "[encoded data removed]",
      "text/plain": [
       "<Figure size 640x480 with 1 Axes>"
      ]
     },
     "metadata": {},
     "output_type": "display_data"
    }
   ],
   "source": [
    "# plot the street ratio distribution of the dataset\n",
    "\n",
    "custom_ratios = get_street_ratio_distr(custom_data[\"masks\"])\n",
    "original_ratios = get_street_ratio_distr(original_data[\"masks\"])\n",
    "\n",
    "plt.hist(custom_ratios,40)\n",
    "plt.hist(original_ratios,40)\n",
    "plt.show()"
   ]
  },
  {
   "cell_type": "code",
   "execution_count": 8,
   "metadata": {},
   "outputs": [
    {
     "name": "stdout",
     "output_type": "stream",
     "text": [
      "Initialzed dataset, checked for min,max street ratio. Discarded %: 0.09165942658557776  num discarded: 844\n",
      "Initialzed dataset, checked for min,max street ratio. Discarded %: 0.0  num discarded: 0\n",
      "8364\n"
     ]
    }
   ],
   "source": [
    "\n",
    "# create a dataset\n",
    "custom_data_set = Sat_Mask_Dataset(custom_data[\"images\"], custom_data[\"masks\"],min_street_ratio=0.01)\n",
    "original_data_set = Sat_Mask_Dataset(original_data[\"images\"],original_data[\"masks\"])\n",
    "print(len(custom_data_set))"
   ]
  },
  {
   "cell_type": "code",
   "execution_count": null,
   "metadata": {},
   "outputs": [],
   "source": [
    "# make sure the dataset loading works as planned: \n",
    "\n",
    "import matplotlib.pyplot as plt\n",
    "\n",
    "# get some random training images\n",
    "idx = 0\n",
    "image, mask = custom_data_set[idx]\n",
    "\n",
    "img = np.array(image)\n",
    "# swap first and third dimension\n",
    "img = np.swapaxes(img, 0, 2)\n",
    "mask = np.array(mask)\n",
    "mask = np.swapaxes(mask, 0, 2)\n",
    "\n",
    "# 1x2 plot: \n",
    "plt.figure(figsize=(15, 5))\n",
    "plt.subplot(1, 3, 1)\n",
    "plt.title(\"Image\")\n",
    "plt.imshow(img)\n",
    "\n",
    "# image + mask overlay\n",
    "plt.subplot(1, 3, 2)\n",
    "plt.title(\"Image + Mask\")\n",
    "plt.imshow(img + mask)\n",
    "\n",
    "# mask\n",
    "plt.subplot(1, 3, 3)\n",
    "plt.title(\"Mask\")\n",
    "plt.imshow(mask)\n",
    "plt.show()\n",
    "\n",
    "\n",
    "print(img.min(), img.max(), mask.min(), mask.max())\n"
   ]
  },
  {
   "cell_type": "markdown",
   "metadata": {},
   "source": [
    "## Dataloader"
   ]
  },
  {
   "cell_type": "code",
   "execution_count": null,
   "metadata": {},
   "outputs": [],
   "source": [
    "train_split = 0.8\n",
    "batch_size = 10\n",
    "\n",
    "\n",
    "import torch.utils.data\n",
    "custom_train_dataset, custom_test_dataset = torch.utils.data.random_split(custom_data_set, [train_split, 1-train_split])\n",
    "original_train_dataset, original_test_dataset = torch.utils.data.random_split(original_data_set, [train_split, 1-train_split])\n",
    "\n",
    "\n",
    "print(len(custom_train_dataset), len(custom_test_dataset))\n",
    "\n",
    "from torch.utils.data import DataLoader\n",
    "\n",
    "\n",
    "# CHECK IF THE FOR MULTIPLE NUM WORKERS THE CODE WORKS AS EXPECTED\n",
    "# SEEMS TO BE CAUSING ISSUES WITH LONG startup and shutdown times for each epoch\n",
    "\n",
    "train_dataloader = DataLoader(custom_train_dataset, batch_size=batch_size, shuffle=True, drop_last=False,num_workers=0)\n",
    "test_dataloader = DataLoader(custom_test_dataset, batch_size=batch_size, shuffle=True, drop_last=False,num_workers=0)"
   ]
  },
  {
   "cell_type": "code",
   "execution_count": null,
   "metadata": {},
   "outputs": [],
   "source": [
    "for image,mask in train_dataloader:\n",
    "    print(image.shape, mask.shape)\n",
    "    break"
   ]
  },
  {
   "cell_type": "markdown",
   "metadata": {},
   "source": [
    "## Loading the model"
   ]
  },
  {
   "cell_type": "code",
   "execution_count": null,
   "metadata": {},
   "outputs": [],
   "source": [
    "\n",
    "############ (CUSTOM SAM (stored in repo))\n",
    "from custom_segment_anything.segment_anything import sam_model_registry\n",
    "from custom_segment_anything.segment_anything.CUSTOM_SAM import *\n",
    "\n",
    "\n",
    "sam_checkpoint_path = \"custom_segment_anything/model_checkpoints/\"\n",
    "\n",
    "# base, large, huge checkpoints. \n",
    "checkpoints = [\"sam_vit_b_01ec64.pth\",\"sam_vit_l_0b3195.pth\",\"sam_vit_h_4b8939.pth\"]\n",
    "checkpoint_names = [\"vit_b\",\"vit_l\",\"vit_h\"]\n",
    "\n",
    "# 0,1,2 for base, large, huge checkpoints: \n",
    "checkpoint_idx = 0#,1,2\n",
    "\n",
    "model_paths = [sam_checkpoint_path+checkpoint_name for checkpoint_name in checkpoints]\n",
    "\n",
    "\n",
    "sam = sam_model_registry[checkpoint_names[checkpoint_idx]](checkpoint=model_paths[checkpoint_idx])\n",
    "sam.to(device)\n",
    "conv_decoder = Conv_Decoder()\n",
    "\n",
    "model = SAM_Encoder_Custom_Decoder(sam.preprocess, sam.image_encoder,decoder=conv_decoder.decoder,encoder_finetune_num_last_layers=6)\n",
    "model = model.to(device)\n",
    "\n",
    "print(model)\n"
   ]
  },
  {
   "cell_type": "markdown",
   "metadata": {},
   "source": [
    "## Training Loop"
   ]
  },
  {
   "cell_type": "markdown",
   "metadata": {},
   "source": [
    "TODO:::\n",
    "\n",
    "Note that right now the model is not using a sigmoid function in the last layer. \n",
    "\n",
    "implement the right loss function and test out different versions, add saving of the model version after training \n",
    "\n",
    "add evaluation of test dataloader to see prediction result. "
   ]
  },
  {
   "cell_type": "code",
   "execution_count": null,
   "metadata": {},
   "outputs": [],
   "source": [
    "# load the finetnued model state, if already started training. \n",
    "\n",
    "#finetune_path = \"custom_segment_anything/model_checkpoints/finetuned/\"\n",
    "#name = \"model_epoch3.pth\"\n",
    "# \n",
    "#model.load_state_dict(torch.load(finetune_path+name))\n"
   ]
  },
  {
   "cell_type": "code",
   "execution_count": null,
   "metadata": {},
   "outputs": [],
   "source": [
    "\n",
    "print(\"Model loaded\")\n",
    "# how many trainable parameters does the model have?\n",
    "print(\"Trainable parameters\",sum(p.numel() for p in model.parameters() if p.requires_grad))\n",
    "# how many total parameters does the model have?\n",
    "print(\"Total parameters\",sum(p.numel() for p in model.parameters()))\n",
    "\n",
    "# percentage of trainable parameters\n",
    "print(\"Percentage of trainable parameters: \")\n",
    "print(sum(p.numel() for p in model.parameters() if p.requires_grad) / sum(p.numel() for p in model.parameters()))"
   ]
  },
  {
   "cell_type": "code",
   "execution_count": null,
   "metadata": {},
   "outputs": [],
   "source": [
    "import torch\n",
    "import tqdm\n",
    "from torcheval.metrics.functional import multiclass_f1_score\n",
    "\n",
    "bce_loss = torch.nn.BCEWithLogitsLoss(reduction=\"sum\")\n",
    "\n",
    "optimizer = torch.optim.Adam(model.parameters(), lr=1e-3)\n",
    "\n",
    "num_epochs = 15\n",
    "\n",
    "\n",
    "for epoch in range(3,num_epochs):\n",
    "    running_loss = 0.0\n",
    "    i = 0\n",
    "    for image, mask in train_dataloader:\n",
    "        image = image.to(device)\n",
    "        mask = mask.to(device)\n",
    "        optimizer.zero_grad()\n",
    "        # first steps of the model with no gradients\n",
    "        \n",
    "        x =model.sam_preprocess(image)\n",
    "        x = model.sam_encoder(x)\n",
    "        pred = model.decoder(x)\n",
    "        \n",
    "        #pred = model(image)\n",
    "\n",
    "        # pred has shape (batch_size, 1, 1024, 1024)\n",
    "        pred = pred[:,0,:,:] # [batch_size, 1024, 1024]\n",
    "        # mask has shape (batch_size, 3, 1024, 1024)\n",
    "        mask = mask[:,0,:,:] # [batch_size, 1024, 1024]\n",
    "\n",
    "        # stretch the pred to one dimension\n",
    "        loss = bce_loss(pred, mask)\n",
    "\n",
    "        #loss = multiclass_f1_score(pred, mask,num_classes=2)\n",
    "        loss.backward()\n",
    "        optimizer.step()\n",
    "        running_loss += loss.item()\n",
    "        print(loss.item(),\"step:\",i,\"of\",len(train_dataloader))\n",
    "        i += 1\n",
    "    print(f\"Epoch: {epoch}, Loss: {running_loss/len(train_dataset)}\")\n",
    "\n",
    "    if epoch % 2 == 0:\n",
    "        # save the model\n",
    "        torch.save(model.state_dict(), f\"model_epoch{epoch}.pth\")\n",
    "\n",
    "# save the model\n",
    "torch.save(model.state_dict(), \"model_tr1.pth\")\n"
   ]
  }
 ],
 "metadata": {
  "kernelspec": {
   "display_name": "mps",
   "language": "python",
   "name": "python3"
  },
  "language_info": {
   "codemirror_mode": {
    "name": "ipython",
    "version": 3
   },
   "file_extension": ".py",
   "mimetype": "text/x-python",
   "name": "python",
   "nbconvert_exporter": "python",
   "pygments_lexer": "ipython3",
   "version": "3.10.13"
  }
 },
 "nbformat": 4,
 "nbformat_minor": 2
}
