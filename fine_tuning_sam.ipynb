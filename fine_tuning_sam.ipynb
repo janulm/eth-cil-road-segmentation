{
 "cells": [
  {
   "cell_type": "markdown",
   "metadata": {},
   "source": [
    "# Fine-tuning SAM on Satellite Images for Street Segmentation\n",
    "\n",
    "\n",
    "## Considerations: \n",
    "---\n",
    "### What to fine-tune:\n",
    "- Only Mask Decoder\n",
    "- Prompt Encoder & Mask Decoder\n",
    "\n",
    "---\n",
    "### Prompt Encoder: \n",
    "SAM has an prompt encoder part that takes either a list of point queries, a list of bounding boxes or masks as input. How can we use the prompt encoder in our pipeline?\n",
    "\n",
    "#### Training\n",
    "\n",
    "Use as input either: \n",
    "- No input\n",
    "- List of point queries: \n",
    "    - Uniformly overlay the whole image with a grid of points\n",
    "    - Sample coordinates of the street pixels as point queries\n",
    "- Bounding box of whole image, part where streets are located, could split up streets into multiple bounding boxes\n",
    "- Masks of the street pixels, could leak ground truth information? \n",
    "\n",
    "#### Evaluation/Testing \n",
    "\n",
    "- List of point queries: \n",
    "    - Uniformly overlay the whole image with a grid of points\n",
    "- No input\n",
    "- Bounding box of whole image\n",
    "\n",
    "---\n",
    "### Loss function: \n",
    "- F1-Loss: https://pytorch.org/torcheval/stable/generated/torcheval.metrics.functional.multiclass_f1_score.html\n",
    "---\n",
    "### Learning rate:\n",
    "- really small values\n",
    "- reduceLROnPlateau(optimizer, 'max', patience=reduce_patience, verbose=verbose, factor=reduce_factor)\n",
    "- cosine annealing\n"
   ]
  },
  {
   "cell_type": "code",
   "execution_count": 2,
   "metadata": {},
   "outputs": [
    {
     "name": "stdout",
     "output_type": "stream",
     "text": [
      "mps\n"
     ]
    }
   ],
   "source": [
    "# written by Jannek Ulm 16.5.2024\n",
    "# code was inspired by the following sources: https://github.com/bnsreenu/python_for_microscopists/blob/master/331_fine_tune_SAM_mito.ipynb\n",
    "\n",
    "from utils.image_loading import * \n",
    "from utils.torch_device import *\n",
    "\n",
    "device = get_torch_device()\n",
    "print(device)\n",
    "\n"
   ]
  }
 ],
 "metadata": {
  "kernelspec": {
   "display_name": "mps",
   "language": "python",
   "name": "python3"
  },
  "language_info": {
   "codemirror_mode": {
    "name": "ipython",
    "version": 3
   },
   "file_extension": ".py",
   "mimetype": "text/x-python",
   "name": "python",
   "nbconvert_exporter": "python",
   "pygments_lexer": "ipython3",
   "version": "3.10.13"
  }
 },
 "nbformat": 4,
 "nbformat_minor": 2
}
