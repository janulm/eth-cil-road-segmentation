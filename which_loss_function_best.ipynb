{
 "cells": [
  {
   "cell_type": "markdown",
   "metadata": {},
   "source": [
    "Add all the code cells to train the the different loss functions and then compare them: "
   ]
  },
  {
   "cell_type": "code",
   "execution_count": null,
   "metadata": {},
   "outputs": [],
   "source": []
  },
  {
   "cell_type": "code",
   "execution_count": null,
   "metadata": {},
   "outputs": [],
   "source": [
    "\n",
    "loss_fn_name = [\"only_bce\",\"combined_loss_p2_norm\",\"combined_loss_dice\"]\n",
    "\n",
    "\n",
    "layers_front = [0,0,15]\n",
    "layers_back = [25,65,85]\n",
    "epoch_ranges = [3,3,3] \n",
    "\n",
    "loss_functions_f1_scores = [[],[],[]]\n",
    "loss_functions_loss_scores = [[],[],[]]\n",
    "\n",
    "for loss_fn_idx in range(3):\n",
    "    for layer_idx in range(len(layers_front)):\n",
    "        epoch_range = epoch_ranges[layer_idx]\n",
    "        for epoch_counter in range(epoch_range):\n",
    "            l_front = layers_front[layer_idx]\n",
    "            l_back = layers_back[layer_idx]\n",
    "            \n",
    "            model_description = f\"model_{loss_fn_idx+1}_mlp_decoder_finetune_last_{l_front}_{l_back}_epoch_{epoch_counter}\"\n",
    "            model_path = \"custom_segment_anything/model_checkpoints/loss_finetuned/\"+model_description\n",
    "            \n",
    "            model = load_sam_model(\"mlp\",device,encoder_finetune_num_first_layers=0,encoder_finetune_num_last_layers=0,finetuned_model_name=model_path,sam_checkpoint_or_finetuned=\"finetuned\",load_from_compiled=False)\n",
    "            \n",
    "            # for each model compute the f1 and loss score of the original dataset\n",
    "            model.eval()\n",
    "            \n",
    "            with torch.no_grad():\n",
    "                l_acc = 0.0\n",
    "                score_acc = 0.0\n",
    "                for image,mask in tqdm(gmaps_dataloader):\n",
    "                    image = image.to(device)\n",
    "                    mask = mask.to(device)\n",
    "                    pred = model(image)\n",
    "                    # compute loss and f1 score: \n",
    "                    score = mean_f1_score_from_logits(pred,mask)    \n",
    "                    loss =  loss_fn(pred,mask)\n",
    "                    # update running loss and f1 score\n",
    "                    score_acc += score.item()\n",
    "                    l_acc  += loss.item()\n",
    "                    # store the loss and f1 score\n",
    "                    \n",
    "                mean_f1 = score_acc/len(gmaps_dataloader)\n",
    "                mean_loss = l_acc/len(gmaps_dataloader)\n",
    "                loss_functions_f1_scores[loss_fn_idx].append(mean_f1)\n",
    "                loss_functions_loss_scores[loss_fn_idx].append(mean_loss)\n",
    "                print(f\"Loss Function {loss_fn_idx}: Layer_idx: {layer_idx} Epoch: {epoch_counter}, (test) Loss: {l_acc/len(gmaps_dataloader)}, F1-Score: {score_acc/len(gmaps_dataloader)}\")\n",
    "            \n",
    "# plot the resolts for all loss function in two seperate plots, one for f1 and one for loss\n",
    "\n"
   ]
  },
  {
   "cell_type": "code",
   "execution_count": null,
   "metadata": {},
   "outputs": [],
   "source": [
    "import matplotlib.pyplot as plt\n",
    "epoch_sum = sum(epoch_ranges)\n",
    "epochs = list(range(epoch_sum))\n",
    "\n",
    "# Plot F1 Scores\n",
    "plt.figure(figsize=(12, 6))\n",
    "for idx in range(3):\n",
    "    plt.plot(epochs, loss_functions_f1_scores[idx], label=loss_fn_name[idx])\n",
    "plt.xlabel('Epoch')\n",
    "plt.ylabel('F1 Score')\n",
    "plt.title('F1 Score over Epochs for Different Loss Functions')\n",
    "plt.legend()\n",
    "plt.show()\n",
    "\n",
    "# Plot Loss Scores\n",
    "plt.figure(figsize=(12, 6))\n",
    "for idx in range(3):\n",
    "    plt.plot(epochs, loss_functions_loss_scores[idx], label=loss_fn_name[idx])\n",
    "plt.xlabel('Epoch')\n",
    "plt.ylabel('weighted BCE+Dice Loss')\n",
    "plt.title('Loss over Epochs for Different Loss Functions')\n",
    "plt.legend()\n",
    "plt.show()"
   ]
  }
 ],
 "metadata": {
  "language_info": {
   "name": "python"
  }
 },
 "nbformat": 4,
 "nbformat_minor": 2
}
