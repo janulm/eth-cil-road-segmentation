{
 "cells": [
  {
   "cell_type": "markdown",
   "metadata": {},
   "source": [
    "# This code implements the majority vote on the outputs of all models we implemented"
   ]
  },
  {
   "cell_type": "code",
   "execution_count": 9,
   "metadata": {},
   "outputs": [],
   "source": [
    "import pandas as pd\n",
    "\n",
    "# List of file names (replace these with your actual file names)\n",
    "file_names = [\n",
    "    'decoder_mlp_bestf1_submission.csv',\n",
    "    'decoder_conv_bestf1_submission.csv',\n",
    "    'decoder_spatial-small_bestf1_submission.csv',\n",
    "    'decoder_spatial-full_bestf1_submission.csv',\n",
    "    'decoder_skip-connect_bestf1_submission.csv',\n",
    "    \"unet_resnet34.csv\", \n",
    "    \"unet_efficientnet-b5.csv\", \n",
    "    \"unetplusplus_resnet34.csv\", \n",
    "    \"unetplusplus_efficientnet-b5.csv\"\n",
    "]\n",
    "\n",
    "submission_files = [pd.read_csv(file_name) for file_name in file_names]\n",
    "# Merge all submissions  in one df, i.e. have an id column and then one column for each submission\n",
    "df = submission_files[0]\n",
    "for i, submission in enumerate(submission_files[1:]):\n",
    "    df = pd.merge(df, submission, on='id')"
   ]
  },
  {
   "cell_type": "code",
   "execution_count": 11,
   "metadata": {},
   "outputs": [],
   "source": [
    "#add a column majority vote, tha is 1 if the majority of the models voted 1, 0 otherwise\n",
    "df['majority_vote'] = df.iloc[:, 1:].mode(axis=1)[0]\n",
    "final_submission_ensemble = df[['id', 'majority_vote']]"
   ]
  },
  {
   "cell_type": "code",
   "execution_count": null,
   "metadata": {},
   "outputs": [],
   "source": [
    "# Save the final_submission to a CSV file\n",
    "final_submission_ensemble.to_csv('majority_vote_ensemble_all_models.csv', index=False)"
   ]
  }
 ],
 "metadata": {
  "kernelspec": {
   "display_name": "Python 3",
   "language": "python",
   "name": "python3"
  },
  "language_info": {
   "codemirror_mode": {
    "name": "ipython",
    "version": 3
   },
   "file_extension": ".py",
   "mimetype": "text/x-python",
   "name": "python",
   "nbconvert_exporter": "python",
   "pygments_lexer": "ipython3",
   "version": "3.10.8"
  }
 },
 "nbformat": 4,
 "nbformat_minor": 2
}
